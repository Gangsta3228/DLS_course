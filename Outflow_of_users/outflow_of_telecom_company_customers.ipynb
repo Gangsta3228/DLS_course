{
  "cells": [
    {
      "cell_type": "markdown",
      "metadata": {
        "id": "TK7oX5qdEEYr"
      },
      "source": [
        "<p style=\"align: center;\"><img align=center src=\"https://s8.hostingkartinok.com/uploads/images/2018/08/308b49fcfbc619d629fe4604bceb67ac.jpg\" width=500 height=450/></p>\n",
        "\n",
        "<h3 style=\"text-align: center;\"><b>Школа глубокого обучения ФПМИ МФТИ</b></h3>\n",
        "\n",
        "<h3 style=\"text-align: center;\"><b>Домашнее задание. Продвинутый поток. Весна 2021</b></h3>\n",
        "\n",
        "Это домашнее задание будет посвящено полноценному решению задачи машинного обучения."
      ]
    },
    {
      "cell_type": "markdown",
      "metadata": {
        "id": "zlB-owfaEEYs"
      },
      "source": [
        "Есть две части этого домашнего задания:\n",
        "* Сделать полноценный отчет о вашей работе: как вы обработали данные, какие модели попробовали и какие результаты получились (максимум 10 баллов). За каждую выполненную часть будет начислено определенное количество баллов.\n",
        "* Лучшее решение отправить в соревнование на [kaggle](https://www.kaggle.com/c/advanced-dls-spring-2021/) (максимум 5 баллов). За прохождение определенного порогов будут начисляться баллы.\n",
        "\n",
        "\n",
        "**Обе части будут проверяться в формате peer-review. Т.е. вашу посылку на степик будут проверять несколько других студентов и аггрегация их оценок будет выставлена. В то же время вам тоже нужно будет проверить несколько других учеников.**\n",
        "\n",
        "**Пожалуйста, делайте свою работу чистой и понятной, чтобы облегчить проверку. Если у вас будут проблемы с решением или хочется совета, то пишите в наш чат в телеграме или в лс @runfme. Если вы захотите проаппелировать оценку, то пипшите в лс @runfme.**\n",
        "\n",
        "**Во всех пунктах указания это минимальный набор вещей, которые стоит сделать. Если вы можете сделать какой-то шаг лучше или добавить что-то свое - дерзайте!**"
      ]
    },
    {
      "cell_type": "markdown",
      "metadata": {
        "id": "Tu_JvqcBEN8Y"
      },
      "source": [
        "# Как проверять?\n",
        "\n",
        "Ставьте полный балл, если выполнены все рекомендации или сделано что-то более интересное и сложное. За каждый отсустствующий пункт из рекомендация снижайте 1 балл."
      ]
    },
    {
      "cell_type": "markdown",
      "metadata": {
        "id": "ninJ63mJEEYt"
      },
      "source": [
        "# Метрика\n",
        "\n",
        "Перед решением любой задачи важно понимать, как будет оцениваться ваше решение. В данном случае мы используем стандартную для задачи классификации метрику ROC-AUC. Ее можно вычислить используя только предсказанные вероятности и истинные классы без конкретного порога классификации + она раотает даже если классы в данных сильно несбалансированны (примеров одного класса в десятки раз больше примеров длугого). Именно поэтому она очень удобна для соревнований.\n",
        "\n",
        "Посчитать ее легко:\n"
      ]
    },
    {
      "cell_type": "code",
      "execution_count": null,
      "metadata": {
        "colab": {
          "base_uri": "https://localhost:8080/"
        },
        "id": "SQIrka7yEEYu",
        "outputId": "75b944cc-7e93-465c-d9d0-6d338d983a53"
      },
      "outputs": [
        {
          "output_type": "execute_result",
          "data": {
            "text/plain": [
              "0.8333333333333333"
            ]
          },
          "metadata": {},
          "execution_count": 2
        }
      ],
      "source": [
        "from sklearn.metrics import roc_auc_score\n",
        "\n",
        "y_true = [\n",
        "    0,\n",
        "    1,\n",
        "    1,\n",
        "    0,\n",
        "    1\n",
        "]\n",
        "\n",
        "y_predictions = [\n",
        "    0.1,\n",
        "    0.9,\n",
        "    0.4,\n",
        "    0.6,\n",
        "    0.61\n",
        "]\n",
        "\n",
        "roc_auc_score(y_true, y_predictions)"
      ]
    },
    {
      "cell_type": "markdown",
      "metadata": {
        "id": "IrDNNkNTEEYz"
      },
      "source": [
        "# Первая часть. Исследование"
      ]
    },
    {
      "cell_type": "code",
      "execution_count": null,
      "metadata": {
        "colab": {
          "base_uri": "https://localhost:8080/"
        },
        "id": "lzLqEeZKEEYz",
        "outputId": "782d48f7-a497-4f05-d72c-5b6462d09a6d"
      },
      "outputs": [
        {
          "output_type": "stream",
          "name": "stdout",
          "text": [
            "Looking in indexes: https://pypi.org/simple, https://us-python.pkg.dev/colab-wheels/public/simple/\n",
            "Collecting catboost\n",
            "  Downloading catboost-1.1.1-cp37-none-manylinux1_x86_64.whl (76.6 MB)\n",
            "\u001b[K     |████████████████████████████████| 76.6 MB 1.1 MB/s \n",
            "\u001b[?25hRequirement already satisfied: pandas>=0.24.0 in /usr/local/lib/python3.7/dist-packages (from catboost) (1.3.5)\n",
            "Requirement already satisfied: scipy in /usr/local/lib/python3.7/dist-packages (from catboost) (1.7.3)\n",
            "Requirement already satisfied: matplotlib in /usr/local/lib/python3.7/dist-packages (from catboost) (3.2.2)\n",
            "Requirement already satisfied: six in /usr/local/lib/python3.7/dist-packages (from catboost) (1.15.0)\n",
            "Requirement already satisfied: graphviz in /usr/local/lib/python3.7/dist-packages (from catboost) (0.10.1)\n",
            "Requirement already satisfied: plotly in /usr/local/lib/python3.7/dist-packages (from catboost) (5.5.0)\n",
            "Requirement already satisfied: numpy>=1.16.0 in /usr/local/lib/python3.7/dist-packages (from catboost) (1.21.6)\n",
            "Requirement already satisfied: pytz>=2017.3 in /usr/local/lib/python3.7/dist-packages (from pandas>=0.24.0->catboost) (2022.5)\n",
            "Requirement already satisfied: python-dateutil>=2.7.3 in /usr/local/lib/python3.7/dist-packages (from pandas>=0.24.0->catboost) (2.8.2)\n",
            "Requirement already satisfied: pyparsing!=2.0.4,!=2.1.2,!=2.1.6,>=2.0.1 in /usr/local/lib/python3.7/dist-packages (from matplotlib->catboost) (3.0.9)\n",
            "Requirement already satisfied: cycler>=0.10 in /usr/local/lib/python3.7/dist-packages (from matplotlib->catboost) (0.11.0)\n",
            "Requirement already satisfied: kiwisolver>=1.0.1 in /usr/local/lib/python3.7/dist-packages (from matplotlib->catboost) (1.4.4)\n",
            "Requirement already satisfied: typing-extensions in /usr/local/lib/python3.7/dist-packages (from kiwisolver>=1.0.1->matplotlib->catboost) (4.1.1)\n",
            "Requirement already satisfied: tenacity>=6.2.0 in /usr/local/lib/python3.7/dist-packages (from plotly->catboost) (8.1.0)\n",
            "Installing collected packages: catboost\n",
            "Successfully installed catboost-1.1.1\n"
          ]
        }
      ],
      "source": [
        "import pandas as pd\n",
        "import numpy as np\n",
        "from matplotlib import pyplot as plt\n",
        "!pip install catboost\n",
        "import catboost"
      ]
    },
    {
      "cell_type": "markdown",
      "metadata": {
        "id": "LOlxdURSEEY3"
      },
      "source": [
        "## Загрузка данных (2 балла)\n",
        "\n",
        "1) Посмотрите на случайные строчки.\n",
        "\n",
        "2) Посмотрите, есть ли в датасете незаполненные значения (nan'ы) с помощью data.isna() или data.info() и, если нужно, замените их на что-то. Будет хорошо, если вы построите табличку с количеством nan в каждой колонке."
      ]
    },
    {
      "cell_type": "code",
      "execution_count": null,
      "metadata": {
        "id": "pw-Brue9EEY3"
      },
      "outputs": [],
      "source": [
        "data = pd.read_csv('./train.csv')"
      ]
    },
    {
      "cell_type": "code",
      "execution_count": null,
      "metadata": {
        "id": "KgnkkF5bEEY9"
      },
      "outputs": [],
      "source": [
        "# Для вашего удобства списки с именами разных колонок\n",
        "\n",
        "# Числовые признаки\n",
        "num_cols = [\n",
        "    'ClientPeriod',\n",
        "    'MonthlySpending',\n",
        "    'TotalSpent'\n",
        "]\n",
        "\n",
        "# Категориальные признаки\n",
        "cat_cols = [\n",
        "    'Sex',\n",
        "    'IsSeniorCitizen',\n",
        "    'HasPartner',\n",
        "    'HasChild',\n",
        "    'HasPhoneService',\n",
        "    'HasMultiplePhoneNumbers',\n",
        "    'HasInternetService',\n",
        "    'HasOnlineSecurityService',\n",
        "    'HasOnlineBackup',\n",
        "    'HasDeviceProtection',\n",
        "    'HasTechSupportAccess',\n",
        "    'HasOnlineTV',\n",
        "    'HasMovieSubscription',\n",
        "    'HasContractPhone',\n",
        "    'IsBillingPaperless',\n",
        "    'PaymentMethod'\n",
        "]\n",
        "\n",
        "feature_cols = num_cols + cat_cols\n",
        "target_col = 'Churn'"
      ]
    },
    {
      "cell_type": "code",
      "execution_count": null,
      "metadata": {
        "colab": {
          "base_uri": "https://localhost:8080/"
        },
        "id": "tHC6gWabEEZA",
        "outputId": "dd1c8b84-d99e-4ca3-a4ff-ca207b33ac4a"
      },
      "outputs": [
        {
          "output_type": "stream",
          "name": "stdout",
          "text": [
            "<class 'pandas.core.frame.DataFrame'>\n",
            "RangeIndex: 5282 entries, 0 to 5281\n",
            "Data columns (total 20 columns):\n",
            " #   Column                    Non-Null Count  Dtype  \n",
            "---  ------                    --------------  -----  \n",
            " 0   ClientPeriod              5282 non-null   int64  \n",
            " 1   MonthlySpending           5282 non-null   float64\n",
            " 2   TotalSpent                5282 non-null   object \n",
            " 3   Sex                       5282 non-null   object \n",
            " 4   IsSeniorCitizen           5282 non-null   int64  \n",
            " 5   HasPartner                5282 non-null   object \n",
            " 6   HasChild                  5282 non-null   object \n",
            " 7   HasPhoneService           5282 non-null   object \n",
            " 8   HasMultiplePhoneNumbers   5282 non-null   object \n",
            " 9   HasInternetService        5282 non-null   object \n",
            " 10  HasOnlineSecurityService  5282 non-null   object \n",
            " 11  HasOnlineBackup           5282 non-null   object \n",
            " 12  HasDeviceProtection       5282 non-null   object \n",
            " 13  HasTechSupportAccess      5282 non-null   object \n",
            " 14  HasOnlineTV               5282 non-null   object \n",
            " 15  HasMovieSubscription      5282 non-null   object \n",
            " 16  HasContractPhone          5282 non-null   object \n",
            " 17  IsBillingPaperless        5282 non-null   object \n",
            " 18  PaymentMethod             5282 non-null   object \n",
            " 19  Churn                     5282 non-null   int64  \n",
            "dtypes: float64(1), int64(3), object(16)\n",
            "memory usage: 825.4+ KB\n"
          ]
        },
        {
          "output_type": "execute_result",
          "data": {
            "text/plain": [
              "ClientPeriod                0\n",
              "MonthlySpending             0\n",
              "TotalSpent                  0\n",
              "Sex                         0\n",
              "IsSeniorCitizen             0\n",
              "HasPartner                  0\n",
              "HasChild                    0\n",
              "HasPhoneService             0\n",
              "HasMultiplePhoneNumbers     0\n",
              "HasInternetService          0\n",
              "HasOnlineSecurityService    0\n",
              "HasOnlineBackup             0\n",
              "HasDeviceProtection         0\n",
              "HasTechSupportAccess        0\n",
              "HasOnlineTV                 0\n",
              "HasMovieSubscription        0\n",
              "HasContractPhone            0\n",
              "IsBillingPaperless          0\n",
              "PaymentMethod               0\n",
              "Churn                       0\n",
              "dtype: int64"
            ]
          },
          "metadata": {},
          "execution_count": 8
        }
      ],
      "source": [
        "data.sample(n=7)\n",
        "data.info()\n",
        "data['TotalSpent'] = data['TotalSpent'].replace(r'^\\s*$', np.nan, regex=True).astype('float') # =замена пропусков значений TotalSpent на nan\n",
        "data_loss = data.isna().sum() # таблица с количеством nan в каждой колонке\n",
        "if sum(data.isna().any(axis=1)) > 0:\n",
        "    data = data.replace(np.nan, '0') #замена nan на 0\n",
        "data_loss"
      ]
    },
    {
      "cell_type": "markdown",
      "metadata": {
        "id": "dK370bPCEEZD"
      },
      "source": [
        "## Анализ данных (3 балла)\n",
        "\n",
        "1) Для численных призанков постройте гистограмму (*plt.hist(...)*) или boxplot (*plt.boxplot(...)*). Для категориальных посчитайте количество каждого значения для каждого признака. Для каждой колонки надо сделать *data.value_counts()* и построить bar диаграммы *plt.bar(...)* или круговые диаграммы *plt.pie(...)* (хорошо, елси вы сможете это сделать на одном гарфике с помощью *plt.subplots(...)*).\n",
        "\n",
        "2) Посмотрите на распределение целевой переменной и скажите, являются ли классы несбалансированными.\n",
        "\n",
        "3) (Если будет желание) Поиграйте с разными библиотеками для визуализации - *sns*, *pandas_visual_analysis*, etc.\n",
        "\n",
        "Второй пункт очень важен, потому что существуют задачи классификации с несбалансированными классами. Например, это может значить, что в датасете намного больше примеров 0 класса. В таких случаях нужно 1) не использовать accuracy как метрику 2) использовать методы борьбы с imbalanced dataset (обычно если датасет сильно несбалансирован, т.е. класса 1 в 20 раз меньше класса 0)."
      ]
    },
    {
      "cell_type": "code",
      "execution_count": null,
      "metadata": {
        "colab": {
          "base_uri": "https://localhost:8080/",
          "height": 1000
        },
        "id": "NZkbgFJZEEZE",
        "outputId": "ca990933-0963-4cc9-b308-dec52586fa65"
      },
      "outputs": [
        {
          "output_type": "display_data",
          "data": {
            "text/plain": [
              "<Figure size 1080x720 with 3 Axes>"
            ],
            "image/png": "[encoded data removed]"
          },
          "metadata": {
            "needs_background": "light"
          }
        },
        {
          "output_type": "display_data",
          "data": {
            "text/plain": [
              "<Figure size 1080x720 with 16 Axes>"
            ],
            "image/png": "[encoded data removed]"
          },
          "metadata": {}
        },
        {
          "output_type": "display_data",
          "data": {
            "text/plain": [
              "<Figure size 576x432 with 1 Axes>"
            ],
            "image/png": "[encoded data removed]"
          },
          "metadata": {}
        }
      ],
      "source": [
        "import seaborn as sns\n",
        "#Проверка численных признаков\n",
        "# разделение датасета на числовые и категориальные признаки_для удобства\n",
        "numeric_data = data[num_cols]\n",
        "categorical_data = data[cat_cols]\n",
        "\n",
        "#Построение гистограмм для категориальных признаков\n",
        "fig_1, axs_1 = plt.subplots(1, 3, figsize=(15, 10), sharey=True)\n",
        "\n",
        "for i in range(len(numeric_data.columns)):\n",
        "    axs_1[i].hist(numeric_data[num_cols[i]], bins='auto')\n",
        "    axs_1[i].set_xlabel(num_cols[i])\n",
        "    axs_1[i].set_ylabel('Density')\n",
        "plt.suptitle('Histograms_num_cols')\n",
        "plt.show()\n",
        "#Выбросов нет, данные сбалансированны\n",
        "\n",
        "#Построение pie_plot для категориальных признаков\n",
        "fig_2, axs_2 = plt.subplots(4, 4, figsize=(15, 10))\n",
        "\n",
        "index = 0\n",
        "for i in range(0, 4):\n",
        "    for j in range(0, 4):\n",
        "        tmp = categorical_data[cat_cols[index]].value_counts()\n",
        "        axs_2[i][j].pie(tmp.tolist(), labels=tmp.index.tolist(), radius=1, autopct='%.1f')\n",
        "        axs_2[i][j].title.set_text(cat_cols[index])\n",
        "        index += 1\n",
        "plt.suptitle('Pie_for_cat_cols')\n",
        "plt.show()\n",
        "#Выбросов также нет все отлично\n",
        "\n",
        "fig = plt.figure(figsize=(8,6))\n",
        "ax_3 = sns.barplot(data=data, x=data[target_col].value_counts().index.tolist(), y=data[target_col].value_counts().tolist())\n",
        "ax_3.set(ylabel=target_col, xlabel='value')\n",
        "fig.patch.set_facecolor('xkcd:white')\n",
        "plt.show()\n",
        "\n",
        "#Классы не сбалансированны целевой переменной со значением 0 в трое больше, чем 1"
      ]
    },
    {
      "cell_type": "markdown",
      "metadata": {
        "id": "zg60u3QDEEZH"
      },
      "source": [
        "(Дополнительно) Если вы нашли какие-то ошибки в данных или выбросы, то можете их убрать. Тут можно поэксперементировать с обработкой данных как угодно, но не за баллы."
      ]
    },
    {
      "cell_type": "code",
      "execution_count": null,
      "metadata": {
        "id": "fwfksF1gEEZI"
      },
      "outputs": [],
      "source": [
        "# YOUR CODE"
      ]
    },
    {
      "cell_type": "markdown",
      "metadata": {
        "id": "DviiJd8REEZK"
      },
      "source": [
        "## Применение линейных моделей (3 балла)\n",
        "\n",
        "1) Обработайте данные для того, чтобы к ним можно было применить LogisticRegression. Т.е. отнормируйте числовые признаки, а категориальные закодируйте с помощью one-hot-encoding'а.\n",
        "\n",
        "2) С помощью кроссвалидации или разделения на train/valid выборку протестируйте разные значения гиперпараметра C и выберите лучший (можно тестировать С=100, 10, 1, 0.1, 0.01, 0.001) по метрике ROC-AUC.\n",
        "\n",
        "Если вы разделяете на train/valid, то используйте LogisticRegressionCV. Он сам при вызове .fit() подберет параметр С. (не забудьте передать scroing='roc_auc', чтобы при кроссвалидации сравнивались значения этой метрики, и refit=True, чтобы при потом модель обучилась на всем датасете с лучшим параметром C).\n",
        "\n",
        "\n",
        "(более сложный вариант) Если вы будете использовать кроссвалидацию, то преобразования данных и LogisticRegression нужно соединить в один Pipeline с помощью make_pipeline, как это делалось во втором семинаре. Потом pipeline надо передать в GridSearchCV. Для one-hot-encoding'a можно испльзовать комбинацию LabelEncoder + OneHotEncoder (сначала превращаем строчки в числа, а потом числа првращаем в one-hot вектора.)"
      ]
    },
    {
      "cell_type": "code",
      "execution_count": null,
      "metadata": {
        "id": "xHCLDmwqEEZL"
      },
      "outputs": [],
      "source": [
        "from sklearn.linear_model import LogisticRegression, LogisticRegressionCV\n",
        "from sklearn.model_selection import train_test_split, GridSearchCV\n",
        "from sklearn.preprocessing import StandardScaler, RobustScaler, LabelEncoder, OneHotEncoder\n",
        "from sklearn.pipeline import Pipeline, make_pipeline, make_union\n",
        "from sklearn.compose import make_column_transformer, ColumnTransformer\n",
        "from sklearn.compose import make_column_selector as selector\n",
        "from sklearn.impute import SimpleImputer"
      ]
    },
    {
      "cell_type": "code",
      "execution_count": null,
      "metadata": {
        "colab": {
          "base_uri": "https://localhost:8080/",
          "height": 217
        },
        "id": "P2Yv3uYtEEZO",
        "outputId": "3469d4f1-43b7-4c6a-d045-10d2b2d5e5cf"
      },
      "outputs": [
        {
          "output_type": "stream",
          "name": "stdout",
          "text": [
            "Fitting 5 folds for each of 1 candidates, totalling 5 fits\n",
            "{'clf__C': 72.2}\n",
            "0.8451371202248991\n"
          ]
        },
        {
          "output_type": "execute_result",
          "data": {
            "text/plain": [
              "\"numeric_data_preprocessing = pd.DataFrame(StandardScaler().fit_transform(numeric_data), columns=num_cols)\\ndummy_features = pd.get_dummies(categorical_data)\\nX = pd.concat([numeric_data_preprocessing, dummy_features], axis=1)\\ny = data[target_col]\\n\\nparameters = {'C': [100, 10, 1, 0.1, 0.01, 0.001]}\\nCV_model = GridSearchCV(estimator=LogisticRegression(), \\n                            param_grid=parameters,\\n                            cv=5, \\n                            scoring='roc_auc',\\n                            n_jobs=-1, \\n                            verbose=10)\\nCV_model.fit(X, y)\\nbest_C = CV_model.best_params_\\nprint(CV_model.best_params_)\\nprint(CV_model.best_score_)\""
            ],
            "application/vnd.google.colaboratory.intrinsic+json": {
              "type": "string"
            }
          },
          "metadata": {},
          "execution_count": 13
        }
      ],
      "source": [
        "#Первый способ решения_с_плохой метрикой\n",
        "'''preprocessor = ColumnTransformer(transformers=[\n",
        "    ('oh', OneHotEncoder(), cat_cols)\n",
        "])\n",
        "\n",
        "model = Pipeline(steps=[\n",
        "    ('prep', preprocessor),\n",
        "    ('scaler', StandardScaler()),\n",
        "    ('clf', LogisticRegression())])\n",
        "X = data.drop(target_col, axis=1)\n",
        "y = data[target_col]\n",
        "parameters = {'clf__C' : [100, 10, 1, 0.1, 0.01, 0.001], 'scaler': [StandardScaler(), RobustScaler()]}\n",
        "CV_model = GridSearchCV(estimator=model,\n",
        "                            param_grid=parameters,\n",
        "                            cv=5,\n",
        "                            scoring='roc_auc',\n",
        "                            n_jobs=-1,\n",
        "                            verbose=10)\n",
        "CV_model.fit(X, y)\n",
        "print(CV_model.best_params_)\n",
        "print(CV_model.best_score_)'''\n",
        "#Второй способ решения\n",
        "X = data.drop(target_col, axis=1)\n",
        "y = data[target_col]\n",
        "cat_preprocessor = Pipeline(steps=[\n",
        "    ('oh', OneHotEncoder(drop='first')),\n",
        "    ('rs', RobustScaler(with_centering=False))\n",
        "])\n",
        "num_preprocessor = Pipeline(steps=[\n",
        "    ('rs', RobustScaler(with_centering=False)) # Create a place holder for your test here !!!\n",
        "])\n",
        "preprocessor = ColumnTransformer(transformers=[\n",
        "    ('cat', cat_preprocessor, cat_cols),\n",
        "    ('num', num_preprocessor, num_cols)\n",
        "])\n",
        "model = Pipeline(steps=[\n",
        "    ('prep', preprocessor),\n",
        "    ('clf', LogisticRegression())])\n",
        "parameters = {'clf__C' : [72.2]}\n",
        "CV_model = GridSearchCV(estimator=model,\n",
        "                            param_grid=parameters,\n",
        "                            cv=5,\n",
        "                            scoring='roc_auc',\n",
        "                            n_jobs=-1,\n",
        "                            verbose=10)\n",
        "CV_model.fit(X, y)\n",
        "print(CV_model.best_params_)\n",
        "print(CV_model.best_score_)\n",
        "#Третий способ решения(наиболее простой)\n",
        "'''numeric_data_preprocessing = pd.DataFrame(StandardScaler().fit_transform(numeric_data), columns=num_cols)\n",
        "dummy_features = pd.get_dummies(categorical_data)\n",
        "X = pd.concat([numeric_data_preprocessing, dummy_features], axis=1)\n",
        "y = data[target_col]\n",
        "\n",
        "parameters = {'C': [100, 10, 1, 0.1, 0.01, 0.001]}\n",
        "CV_model = GridSearchCV(estimator=LogisticRegression(),\n",
        "                            param_grid=parameters,\n",
        "                            cv=5,\n",
        "                            scoring='roc_auc',\n",
        "                            n_jobs=-1,\n",
        "                            verbose=10)\n",
        "CV_model.fit(X, y)\n",
        "best_C = CV_model.best_params_\n",
        "print(CV_model.best_params_)\n",
        "print(CV_model.best_score_)'''"
      ]
    },
    {
      "cell_type": "markdown",
      "metadata": {
        "id": "uVahy6JKEEZQ"
      },
      "source": [
        "Выпишите какое лучшее качество и с какими параметрами вам удалось получить"
      ]
    },
    {
      "cell_type": "markdown",
      "metadata": {
        "id": "tzhjA4ZjvgYB"
      },
      "source": [
        "Наилучшее качество 0.8451371202248991 с параметром С = 72.2"
      ]
    },
    {
      "cell_type": "markdown",
      "metadata": {
        "id": "36729TOQEEZR"
      },
      "source": []
    },
    {
      "cell_type": "markdown",
      "metadata": {
        "id": "BlTeVy7fEEZR"
      },
      "source": [
        "## Применение градиентного бустинга (2 балла)\n",
        "\n",
        "Если вы хотите получить баллы за точный ответ, то стоит попробовать градиентный бустинг. Часто градиентный бустинг с дефолтными параметрами даст вам 80% результата за 0% усилий.\n",
        "\n",
        "Мы будем использовать catboost, поэтому нам не надо кодировать категориальные признаки. catboost сделает это сам (в .fit() надо передать cat_features=cat_cols). А численные признаки нормировать для моделей, основанных на деревьях не нужно.\n",
        "\n",
        "1) Разделите выборку на train/valid. Протестируйте catboost cо стандартными параметрами.\n",
        "\n",
        "2) Протестируйте разные занчения параметроа количества деревьев и learning_rate'а и выберите лучшую по метрике ROC-AUC комбинацию.\n",
        "\n",
        "(Дополнительно) Есть некоторые сложности с тем, чтобы использовать CatBoostClassifier вместе с GridSearchCV, поэтому мы не просим использовать кроссвалидацию. Но можете попробовать)"
      ]
    },
    {
      "cell_type": "code",
      "execution_count": null,
      "metadata": {
        "colab": {
          "base_uri": "https://localhost:8080/"
        },
        "id": "Fioxxlp-EEZS",
        "outputId": "df27057a-a336-4486-bf4c-2319bceedb3b"
      },
      "outputs": [
        {
          "output_type": "stream",
          "name": "stdout",
          "text": [
            "0:\ttotal: 7.59ms\tremaining: 2.19s\n",
            "1:\ttotal: 15.7ms\tremaining: 2.27s\n",
            "2:\ttotal: 23.7ms\tremaining: 2.26s\n",
            "3:\ttotal: 31.5ms\tremaining: 2.25s\n",
            "4:\ttotal: 39ms\tremaining: 2.22s\n",
            "5:\ttotal: 46.8ms\tremaining: 2.21s\n",
            "6:\ttotal: 54.6ms\tremaining: 2.21s\n",
            "7:\ttotal: 58.8ms\tremaining: 2.07s\n",
            "8:\ttotal: 65.6ms\tremaining: 2.05s\n",
            "9:\ttotal: 71.8ms\tremaining: 2.01s\n",
            "10:\ttotal: 76.1ms\tremaining: 1.93s\n",
            "11:\ttotal: 86ms\tremaining: 1.99s\n",
            "12:\ttotal: 93.5ms\tremaining: 1.99s\n",
            "13:\ttotal: 101ms\tremaining: 1.99s\n",
            "14:\ttotal: 108ms\tremaining: 1.98s\n",
            "15:\ttotal: 116ms\tremaining: 1.98s\n",
            "16:\ttotal: 122ms\tremaining: 1.96s\n",
            "17:\ttotal: 130ms\tremaining: 1.96s\n",
            "18:\ttotal: 137ms\tremaining: 1.96s\n",
            "19:\ttotal: 146ms\tremaining: 1.97s\n",
            "20:\ttotal: 150ms\tremaining: 1.93s\n",
            "21:\ttotal: 158ms\tremaining: 1.93s\n",
            "22:\ttotal: 167ms\tremaining: 1.93s\n",
            "23:\ttotal: 175ms\tremaining: 1.93s\n",
            "24:\ttotal: 182ms\tremaining: 1.93s\n",
            "25:\ttotal: 190ms\tremaining: 1.93s\n",
            "26:\ttotal: 198ms\tremaining: 1.93s\n",
            "27:\ttotal: 208ms\tremaining: 1.95s\n",
            "28:\ttotal: 216ms\tremaining: 1.94s\n",
            "29:\ttotal: 223ms\tremaining: 1.93s\n",
            "30:\ttotal: 230ms\tremaining: 1.92s\n",
            "31:\ttotal: 238ms\tremaining: 1.92s\n",
            "32:\ttotal: 245ms\tremaining: 1.91s\n",
            "33:\ttotal: 251ms\tremaining: 1.89s\n",
            "34:\ttotal: 258ms\tremaining: 1.88s\n",
            "35:\ttotal: 266ms\tremaining: 1.88s\n",
            "36:\ttotal: 274ms\tremaining: 1.87s\n",
            "37:\ttotal: 282ms\tremaining: 1.87s\n",
            "38:\ttotal: 290ms\tremaining: 1.87s\n",
            "39:\ttotal: 298ms\tremaining: 1.86s\n",
            "40:\ttotal: 305ms\tremaining: 1.85s\n",
            "41:\ttotal: 312ms\tremaining: 1.84s\n",
            "42:\ttotal: 319ms\tremaining: 1.83s\n",
            "43:\ttotal: 326ms\tremaining: 1.82s\n",
            "44:\ttotal: 334ms\tremaining: 1.82s\n",
            "45:\ttotal: 342ms\tremaining: 1.81s\n",
            "46:\ttotal: 350ms\tremaining: 1.81s\n",
            "47:\ttotal: 358ms\tremaining: 1.8s\n",
            "48:\ttotal: 366ms\tremaining: 1.8s\n",
            "49:\ttotal: 376ms\tremaining: 1.81s\n",
            "50:\ttotal: 381ms\tremaining: 1.78s\n",
            "51:\ttotal: 388ms\tremaining: 1.77s\n",
            "52:\ttotal: 395ms\tremaining: 1.77s\n",
            "53:\ttotal: 403ms\tremaining: 1.76s\n",
            "54:\ttotal: 416ms\tremaining: 1.77s\n",
            "55:\ttotal: 426ms\tremaining: 1.78s\n",
            "56:\ttotal: 429ms\tremaining: 1.75s\n",
            "57:\ttotal: 437ms\tremaining: 1.75s\n",
            "58:\ttotal: 446ms\tremaining: 1.75s\n",
            "59:\ttotal: 455ms\tremaining: 1.74s\n",
            "60:\ttotal: 464ms\tremaining: 1.74s\n",
            "61:\ttotal: 473ms\tremaining: 1.74s\n",
            "62:\ttotal: 483ms\tremaining: 1.74s\n",
            "63:\ttotal: 492ms\tremaining: 1.74s\n",
            "64:\ttotal: 508ms\tremaining: 1.76s\n",
            "65:\ttotal: 517ms\tremaining: 1.75s\n",
            "66:\ttotal: 526ms\tremaining: 1.75s\n",
            "67:\ttotal: 530ms\tremaining: 1.73s\n",
            "68:\ttotal: 539ms\tremaining: 1.73s\n",
            "69:\ttotal: 547ms\tremaining: 1.72s\n",
            "70:\ttotal: 554ms\tremaining: 1.71s\n",
            "71:\ttotal: 563ms\tremaining: 1.7s\n",
            "72:\ttotal: 571ms\tremaining: 1.7s\n",
            "73:\ttotal: 575ms\tremaining: 1.68s\n",
            "74:\ttotal: 586ms\tremaining: 1.68s\n",
            "75:\ttotal: 594ms\tremaining: 1.67s\n",
            "76:\ttotal: 603ms\tremaining: 1.67s\n",
            "77:\ttotal: 615ms\tremaining: 1.67s\n",
            "78:\ttotal: 625ms\tremaining: 1.67s\n",
            "79:\ttotal: 638ms\tremaining: 1.68s\n",
            "80:\ttotal: 646ms\tremaining: 1.67s\n",
            "81:\ttotal: 654ms\tremaining: 1.66s\n",
            "82:\ttotal: 662ms\tremaining: 1.65s\n",
            "83:\ttotal: 671ms\tremaining: 1.64s\n",
            "84:\ttotal: 678ms\tremaining: 1.64s\n",
            "85:\ttotal: 688ms\tremaining: 1.63s\n",
            "86:\ttotal: 697ms\tremaining: 1.63s\n",
            "87:\ttotal: 705ms\tremaining: 1.62s\n",
            "88:\ttotal: 713ms\tremaining: 1.61s\n",
            "89:\ttotal: 721ms\tremaining: 1.6s\n",
            "90:\ttotal: 730ms\tremaining: 1.59s\n",
            "91:\ttotal: 734ms\tremaining: 1.58s\n",
            "92:\ttotal: 741ms\tremaining: 1.57s\n",
            "93:\ttotal: 748ms\tremaining: 1.56s\n",
            "94:\ttotal: 758ms\tremaining: 1.56s\n",
            "95:\ttotal: 774ms\tremaining: 1.56s\n",
            "96:\ttotal: 781ms\tremaining: 1.55s\n",
            "97:\ttotal: 786ms\tremaining: 1.54s\n",
            "98:\ttotal: 795ms\tremaining: 1.53s\n",
            "99:\ttotal: 798ms\tremaining: 1.52s\n",
            "100:\ttotal: 806ms\tremaining: 1.51s\n",
            "101:\ttotal: 818ms\tremaining: 1.51s\n",
            "102:\ttotal: 827ms\tremaining: 1.5s\n",
            "103:\ttotal: 835ms\tremaining: 1.49s\n",
            "104:\ttotal: 843ms\tremaining: 1.48s\n",
            "105:\ttotal: 852ms\tremaining: 1.48s\n",
            "106:\ttotal: 859ms\tremaining: 1.47s\n",
            "107:\ttotal: 869ms\tremaining: 1.46s\n",
            "108:\ttotal: 878ms\tremaining: 1.46s\n",
            "109:\ttotal: 886ms\tremaining: 1.45s\n",
            "110:\ttotal: 892ms\tremaining: 1.44s\n",
            "111:\ttotal: 900ms\tremaining: 1.43s\n",
            "112:\ttotal: 908ms\tremaining: 1.42s\n",
            "113:\ttotal: 917ms\tremaining: 1.42s\n",
            "114:\ttotal: 925ms\tremaining: 1.41s\n",
            "115:\ttotal: 933ms\tremaining: 1.4s\n",
            "116:\ttotal: 941ms\tremaining: 1.39s\n",
            "117:\ttotal: 948ms\tremaining: 1.38s\n",
            "118:\ttotal: 955ms\tremaining: 1.37s\n",
            "119:\ttotal: 963ms\tremaining: 1.36s\n",
            "120:\ttotal: 972ms\tremaining: 1.36s\n",
            "121:\ttotal: 985ms\tremaining: 1.35s\n",
            "122:\ttotal: 992ms\tremaining: 1.35s\n",
            "123:\ttotal: 999ms\tremaining: 1.34s\n",
            "124:\ttotal: 1s\tremaining: 1.32s\n",
            "125:\ttotal: 1.01s\tremaining: 1.31s\n",
            "126:\ttotal: 1.01s\tremaining: 1.3s\n",
            "127:\ttotal: 1.03s\tremaining: 1.3s\n",
            "128:\ttotal: 1.04s\tremaining: 1.3s\n",
            "129:\ttotal: 1.04s\tremaining: 1.29s\n",
            "130:\ttotal: 1.05s\tremaining: 1.28s\n",
            "131:\ttotal: 1.06s\tremaining: 1.27s\n",
            "132:\ttotal: 1.07s\tremaining: 1.26s\n",
            "133:\ttotal: 1.08s\tremaining: 1.25s\n",
            "134:\ttotal: 1.09s\tremaining: 1.25s\n",
            "135:\ttotal: 1.1s\tremaining: 1.24s\n",
            "136:\ttotal: 1.11s\tremaining: 1.24s\n",
            "137:\ttotal: 1.11s\tremaining: 1.23s\n",
            "138:\ttotal: 1.12s\tremaining: 1.22s\n",
            "139:\ttotal: 1.13s\tremaining: 1.21s\n",
            "140:\ttotal: 1.14s\tremaining: 1.2s\n",
            "141:\ttotal: 1.15s\tremaining: 1.19s\n",
            "142:\ttotal: 1.16s\tremaining: 1.19s\n",
            "143:\ttotal: 1.17s\tremaining: 1.18s\n",
            "144:\ttotal: 1.17s\tremaining: 1.17s\n",
            "145:\ttotal: 1.18s\tremaining: 1.17s\n",
            "146:\ttotal: 1.19s\tremaining: 1.16s\n",
            "147:\ttotal: 1.2s\tremaining: 1.16s\n",
            "148:\ttotal: 1.21s\tremaining: 1.15s\n",
            "149:\ttotal: 1.22s\tremaining: 1.14s\n",
            "150:\ttotal: 1.23s\tremaining: 1.13s\n",
            "151:\ttotal: 1.24s\tremaining: 1.12s\n",
            "152:\ttotal: 1.25s\tremaining: 1.12s\n",
            "153:\ttotal: 1.26s\tremaining: 1.11s\n",
            "154:\ttotal: 1.26s\tremaining: 1.1s\n",
            "155:\ttotal: 1.27s\tremaining: 1.09s\n",
            "156:\ttotal: 1.28s\tremaining: 1.08s\n",
            "157:\ttotal: 1.29s\tremaining: 1.08s\n",
            "158:\ttotal: 1.3s\tremaining: 1.07s\n",
            "159:\ttotal: 1.31s\tremaining: 1.06s\n",
            "160:\ttotal: 1.31s\tremaining: 1.05s\n",
            "161:\ttotal: 1.32s\tremaining: 1.04s\n",
            "162:\ttotal: 1.33s\tremaining: 1.04s\n",
            "163:\ttotal: 1.34s\tremaining: 1.03s\n",
            "164:\ttotal: 1.35s\tremaining: 1.02s\n",
            "165:\ttotal: 1.35s\tremaining: 1.01s\n",
            "166:\ttotal: 1.36s\tremaining: 999ms\n",
            "167:\ttotal: 1.37s\tremaining: 994ms\n",
            "168:\ttotal: 1.38s\tremaining: 986ms\n",
            "169:\ttotal: 1.38s\tremaining: 976ms\n",
            "170:\ttotal: 1.39s\tremaining: 967ms\n",
            "171:\ttotal: 1.39s\tremaining: 956ms\n",
            "172:\ttotal: 1.4s\tremaining: 947ms\n",
            "173:\ttotal: 1.41s\tremaining: 939ms\n",
            "174:\ttotal: 1.42s\tremaining: 933ms\n",
            "175:\ttotal: 1.43s\tremaining: 926ms\n",
            "176:\ttotal: 1.44s\tremaining: 917ms\n",
            "177:\ttotal: 1.44s\tremaining: 908ms\n",
            "178:\ttotal: 1.45s\tremaining: 899ms\n",
            "179:\ttotal: 1.46s\tremaining: 890ms\n",
            "180:\ttotal: 1.46s\tremaining: 882ms\n",
            "181:\ttotal: 1.47s\tremaining: 874ms\n",
            "182:\ttotal: 1.48s\tremaining: 865ms\n",
            "183:\ttotal: 1.49s\tremaining: 858ms\n",
            "184:\ttotal: 1.5s\tremaining: 850ms\n",
            "185:\ttotal: 1.5s\tremaining: 841ms\n",
            "186:\ttotal: 1.51s\tremaining: 833ms\n",
            "187:\ttotal: 1.52s\tremaining: 825ms\n",
            "188:\ttotal: 1.53s\tremaining: 816ms\n",
            "189:\ttotal: 1.53s\tremaining: 808ms\n",
            "190:\ttotal: 1.54s\tremaining: 799ms\n",
            "191:\ttotal: 1.55s\tremaining: 791ms\n",
            "192:\ttotal: 1.56s\tremaining: 783ms\n",
            "193:\ttotal: 1.56s\tremaining: 775ms\n",
            "194:\ttotal: 1.57s\tremaining: 766ms\n",
            "195:\ttotal: 1.58s\tremaining: 758ms\n",
            "196:\ttotal: 1.59s\tremaining: 749ms\n",
            "197:\ttotal: 1.59s\tremaining: 741ms\n",
            "198:\ttotal: 1.6s\tremaining: 733ms\n",
            "199:\ttotal: 1.61s\tremaining: 724ms\n",
            "200:\ttotal: 1.62s\tremaining: 716ms\n",
            "201:\ttotal: 1.63s\tremaining: 710ms\n",
            "202:\ttotal: 1.64s\tremaining: 701ms\n",
            "203:\ttotal: 1.65s\tremaining: 694ms\n",
            "204:\ttotal: 1.65s\tremaining: 685ms\n",
            "205:\ttotal: 1.66s\tremaining: 677ms\n",
            "206:\ttotal: 1.67s\tremaining: 670ms\n",
            "207:\ttotal: 1.68s\tremaining: 661ms\n",
            "208:\ttotal: 1.68s\tremaining: 653ms\n",
            "209:\ttotal: 1.69s\tremaining: 645ms\n",
            "210:\ttotal: 1.7s\tremaining: 636ms\n",
            "211:\ttotal: 1.71s\tremaining: 628ms\n",
            "212:\ttotal: 1.72s\tremaining: 620ms\n",
            "213:\ttotal: 1.72s\tremaining: 612ms\n",
            "214:\ttotal: 1.73s\tremaining: 603ms\n",
            "215:\ttotal: 1.74s\tremaining: 596ms\n",
            "216:\ttotal: 1.76s\tremaining: 591ms\n",
            "217:\ttotal: 1.76s\tremaining: 583ms\n",
            "218:\ttotal: 1.77s\tremaining: 576ms\n",
            "219:\ttotal: 1.78s\tremaining: 567ms\n",
            "220:\ttotal: 1.79s\tremaining: 559ms\n",
            "221:\ttotal: 1.8s\tremaining: 551ms\n",
            "222:\ttotal: 1.8s\tremaining: 543ms\n",
            "223:\ttotal: 1.81s\tremaining: 534ms\n",
            "224:\ttotal: 1.82s\tremaining: 527ms\n",
            "225:\ttotal: 1.83s\tremaining: 519ms\n",
            "226:\ttotal: 1.84s\tremaining: 511ms\n",
            "227:\ttotal: 1.85s\tremaining: 503ms\n",
            "228:\ttotal: 1.86s\tremaining: 494ms\n",
            "229:\ttotal: 1.86s\tremaining: 486ms\n",
            "230:\ttotal: 1.87s\tremaining: 478ms\n",
            "231:\ttotal: 1.88s\tremaining: 470ms\n",
            "232:\ttotal: 1.89s\tremaining: 461ms\n",
            "233:\ttotal: 1.89s\tremaining: 453ms\n",
            "234:\ttotal: 1.9s\tremaining: 445ms\n",
            "235:\ttotal: 1.91s\tremaining: 438ms\n",
            "236:\ttotal: 1.92s\tremaining: 430ms\n",
            "237:\ttotal: 1.93s\tremaining: 422ms\n",
            "238:\ttotal: 1.94s\tremaining: 414ms\n",
            "239:\ttotal: 1.95s\tremaining: 406ms\n",
            "240:\ttotal: 1.95s\tremaining: 397ms\n",
            "241:\ttotal: 1.96s\tremaining: 389ms\n",
            "242:\ttotal: 1.97s\tremaining: 381ms\n",
            "243:\ttotal: 1.98s\tremaining: 373ms\n",
            "244:\ttotal: 1.98s\tremaining: 364ms\n",
            "245:\ttotal: 1.99s\tremaining: 356ms\n",
            "246:\ttotal: 2s\tremaining: 348ms\n",
            "247:\ttotal: 2s\tremaining: 339ms\n",
            "248:\ttotal: 2.01s\tremaining: 331ms\n",
            "249:\ttotal: 2.02s\tremaining: 323ms\n",
            "250:\ttotal: 2.03s\tremaining: 316ms\n",
            "251:\ttotal: 2.04s\tremaining: 307ms\n",
            "252:\ttotal: 2.04s\tremaining: 299ms\n",
            "253:\ttotal: 2.05s\tremaining: 291ms\n",
            "254:\ttotal: 2.06s\tremaining: 283ms\n",
            "255:\ttotal: 2.07s\tremaining: 275ms\n",
            "256:\ttotal: 2.07s\tremaining: 266ms\n",
            "257:\ttotal: 2.08s\tremaining: 258ms\n",
            "258:\ttotal: 2.09s\tremaining: 250ms\n",
            "259:\ttotal: 2.1s\tremaining: 242ms\n",
            "260:\ttotal: 2.1s\tremaining: 234ms\n",
            "261:\ttotal: 2.11s\tremaining: 226ms\n",
            "262:\ttotal: 2.12s\tremaining: 218ms\n",
            "263:\ttotal: 2.13s\tremaining: 210ms\n",
            "264:\ttotal: 2.13s\tremaining: 201ms\n",
            "265:\ttotal: 2.14s\tremaining: 193ms\n",
            "266:\ttotal: 2.15s\tremaining: 185ms\n",
            "267:\ttotal: 2.16s\tremaining: 177ms\n",
            "268:\ttotal: 2.17s\tremaining: 169ms\n",
            "269:\ttotal: 2.18s\tremaining: 161ms\n",
            "270:\ttotal: 2.18s\tremaining: 153ms\n",
            "271:\ttotal: 2.19s\tremaining: 145ms\n",
            "272:\ttotal: 2.2s\tremaining: 137ms\n",
            "273:\ttotal: 2.21s\tremaining: 129ms\n",
            "274:\ttotal: 2.21s\tremaining: 121ms\n",
            "275:\ttotal: 2.22s\tremaining: 113ms\n",
            "276:\ttotal: 2.23s\tremaining: 105ms\n",
            "277:\ttotal: 2.24s\tremaining: 96.6ms\n",
            "278:\ttotal: 2.25s\tremaining: 88.6ms\n",
            "279:\ttotal: 2.25s\tremaining: 80.5ms\n",
            "280:\ttotal: 2.26s\tremaining: 72.4ms\n",
            "281:\ttotal: 2.27s\tremaining: 64.3ms\n",
            "282:\ttotal: 2.27s\tremaining: 56.3ms\n",
            "283:\ttotal: 2.28s\tremaining: 48.2ms\n",
            "284:\ttotal: 2.29s\tremaining: 40.2ms\n",
            "285:\ttotal: 2.3s\tremaining: 32.1ms\n",
            "286:\ttotal: 2.31s\tremaining: 24.1ms\n",
            "287:\ttotal: 2.31s\tremaining: 16.1ms\n",
            "288:\ttotal: 2.32s\tremaining: 8.03ms\n",
            "289:\ttotal: 2.33s\tremaining: 0us\n",
            "0.8800725240563148\n",
            "0.8271742041540069\n"
          ]
        }
      ],
      "source": [
        "from sklearn.metrics import classification_report\n",
        "X_train, X_valid, y_train, y_valid = train_test_split(X, y,\n",
        "                                                    train_size=0.8,\n",
        "                                                    random_state=42)\n",
        "train_dataset = catboost.Pool(X_train, y_train, cat_features=cat_cols)\n",
        "'''boosting_model = catboost.CatBoostClassifier(iterations=290,\n",
        "                                             learning_rate= 0.05,\n",
        "                                             l2_leaf_reg = 3.7,\n",
        "                                             max_depth = 5,\n",
        "                                             subsample = 0.8,\n",
        "                                             random_strength = 1,\n",
        "                                             loss_function='Logloss',\n",
        "                                             eval_metric='AUC')\n",
        "parameters_for_grid_catboost = {'eta': np.arange(0.1, 1, 0.1),\n",
        "                                'min_data_in_leaf': np.arange(1, 10)}\n",
        "grid_search_result = boosting_model.grid_search(parameters_for_grid_catboost,\n",
        "                                       train_dataset,\n",
        "                                       cv=5,\n",
        "                                       search_by_train_test_split=True,\n",
        "                                       train_size=0.8,\n",
        "                                       plot=True)\n",
        "print(grid_search_result['params'])'''\n",
        "boosting_model = catboost.CatBoostClassifier(iterations=290,\n",
        "                                             learning_rate= 0.05,\n",
        "                                             l2_leaf_reg = 3.7,\n",
        "                                             max_depth = 5,\n",
        "                                             subsample = 0.8,\n",
        "                                             random_strength = 1,\n",
        "                                             min_data_in_leaf = 1,\n",
        "                                             loss_function='Logloss',\n",
        "                                             eval_metric='AUC')\n",
        "boosting_model.fit(train_dataset)\n",
        "y_train_predicted = boosting_model.predict_proba(X_train)[:, 1]\n",
        "y_test_predicted = boosting_model.predict_proba(X_valid)[:, 1]\n",
        "train_auc = roc_auc_score(y_train, y_train_predicted)\n",
        "test_auc = roc_auc_score(y_valid, y_test_predicted)\n",
        "print(train_auc)\n",
        "print(test_auc)\n",
        "\n"
      ]
    },
    {
      "cell_type": "markdown",
      "metadata": {
        "id": "rf4Kjt96EEZU"
      },
      "source": [
        "Выпишите какое лучшее качество и с какими параметрами вам удалось получить"
      ]
    },
    {
      "cell_type": "markdown",
      "source": [
        "Лучший рейтинг на kaggle: 0.85223, parameters:\n",
        "iterations=290,\n",
        "                                          learning_rate= 0.05,\n",
        "                                          l2_leaf_reg = 3.7,\n",
        "                                          max_depth = 5,\n",
        "                                          subsample = 0.8,\n",
        "                                          random_strength = 1,\n",
        "                                          min_data_in_leaf = 1,\n"
      ],
      "metadata": {
        "id": "-kaipXY15y1-"
      }
    },
    {
      "cell_type": "markdown",
      "metadata": {
        "id": "d2d9GolXEEZV"
      },
      "source": []
    },
    {
      "cell_type": "code",
      "source": [],
      "metadata": {
        "id": "vJqrsF945yFi"
      },
      "execution_count": null,
      "outputs": []
    },
    {
      "cell_type": "markdown",
      "metadata": {
        "id": "dDMXbvNZEEZV"
      },
      "source": [
        "# Предсказания"
      ]
    },
    {
      "cell_type": "code",
      "execution_count": null,
      "metadata": {
        "id": "G_P4wFNaEEZW"
      },
      "outputs": [],
      "source": [
        "best_model = boosting_model"
      ]
    },
    {
      "cell_type": "code",
      "execution_count": null,
      "metadata": {
        "id": "FfSufx0CEEZZ",
        "colab": {
          "base_uri": "https://localhost:8080/",
          "height": 558
        },
        "outputId": "cb924f46-0ba6-43f4-9ca6-22a9fdc43731"
      },
      "outputs": [
        {
          "output_type": "error",
          "ename": "CatBoostError",
          "evalue": "ignored",
          "traceback": [
            "\u001b[0;31m---------------------------------------------------------------------------\u001b[0m",
            "\u001b[0;31mCatBoostError\u001b[0m                             Traceback (most recent call last)",
            "\u001b[0;32m<ipython-input-68-07a60815ba6e>\u001b[0m in \u001b[0;36m<module>\u001b[0;34m\u001b[0m\n\u001b[1;32m      3\u001b[0m \u001b[0mX_test\u001b[0m\u001b[0;34m.\u001b[0m\u001b[0mreplace\u001b[0m\u001b[0;34m(\u001b[0m\u001b[0;34m' '\u001b[0m\u001b[0;34m,\u001b[0m \u001b[0;36m1\u001b[0m\u001b[0;34m,\u001b[0m \u001b[0minplace\u001b[0m\u001b[0;34m=\u001b[0m\u001b[0;32mTrue\u001b[0m\u001b[0;34m)\u001b[0m\u001b[0;34m\u001b[0m\u001b[0;34m\u001b[0m\u001b[0m\n\u001b[1;32m      4\u001b[0m \u001b[0mX_test\u001b[0m\u001b[0;34m.\u001b[0m\u001b[0mTotalSpent\u001b[0m \u001b[0;34m=\u001b[0m \u001b[0mX_test\u001b[0m\u001b[0;34m.\u001b[0m\u001b[0mTotalSpent\u001b[0m\u001b[0;34m.\u001b[0m\u001b[0mastype\u001b[0m\u001b[0;34m(\u001b[0m\u001b[0mfloat\u001b[0m\u001b[0;34m)\u001b[0m\u001b[0;34m\u001b[0m\u001b[0;34m\u001b[0m\u001b[0m\n\u001b[0;32m----> 5\u001b[0;31m \u001b[0msubmission\u001b[0m\u001b[0;34m[\u001b[0m\u001b[0;34m'Churn'\u001b[0m\u001b[0;34m]\u001b[0m \u001b[0;34m=\u001b[0m \u001b[0mbest_model\u001b[0m\u001b[0;34m.\u001b[0m\u001b[0mpredict_proba\u001b[0m\u001b[0;34m(\u001b[0m\u001b[0mX_test\u001b[0m\u001b[0;34m)\u001b[0m\u001b[0;34m[\u001b[0m\u001b[0;34m:\u001b[0m\u001b[0;34m,\u001b[0m \u001b[0;36m1\u001b[0m\u001b[0;34m]\u001b[0m\u001b[0;34m\u001b[0m\u001b[0;34m\u001b[0m\u001b[0m\n\u001b[0m\u001b[1;32m      6\u001b[0m \u001b[0;31m# best_model.predict_proba(X_test) / best_model.predict(X_test)\u001b[0m\u001b[0;34m\u001b[0m\u001b[0;34m\u001b[0m\u001b[0;34m\u001b[0m\u001b[0m\n\u001b[1;32m      7\u001b[0m \u001b[0msubmission\u001b[0m\u001b[0;34m.\u001b[0m\u001b[0mto_csv\u001b[0m\u001b[0;34m(\u001b[0m\u001b[0;34m'./my_submission.csv'\u001b[0m\u001b[0;34m,\u001b[0m \u001b[0mindex\u001b[0m\u001b[0;34m=\u001b[0m\u001b[0;32mFalse\u001b[0m\u001b[0;34m)\u001b[0m\u001b[0;34m\u001b[0m\u001b[0;34m\u001b[0m\u001b[0m\n",
            "\u001b[0;32m/usr/local/lib/python3.7/dist-packages/catboost/core.py\u001b[0m in \u001b[0;36mpredict_proba\u001b[0;34m(self, X, ntree_start, ntree_end, thread_count, verbose, task_type)\u001b[0m\n\u001b[1;32m   5220\u001b[0m                 \u001b[0;32mwith\u001b[0m \u001b[0mprobability\u001b[0m \u001b[0;32mfor\u001b[0m \u001b[0mevery\u001b[0m \u001b[0;32mclass\u001b[0m \u001b[0;32mfor\u001b[0m \u001b[0meach\u001b[0m \u001b[0mobject\u001b[0m\u001b[0;34m.\u001b[0m\u001b[0;34m\u001b[0m\u001b[0;34m\u001b[0m\u001b[0m\n\u001b[1;32m   5221\u001b[0m         \"\"\"\n\u001b[0;32m-> 5222\u001b[0;31m         \u001b[0;32mreturn\u001b[0m \u001b[0mself\u001b[0m\u001b[0;34m.\u001b[0m\u001b[0m_predict\u001b[0m\u001b[0;34m(\u001b[0m\u001b[0mX\u001b[0m\u001b[0;34m,\u001b[0m \u001b[0;34m'Probability'\u001b[0m\u001b[0;34m,\u001b[0m \u001b[0mntree_start\u001b[0m\u001b[0;34m,\u001b[0m \u001b[0mntree_end\u001b[0m\u001b[0;34m,\u001b[0m \u001b[0mthread_count\u001b[0m\u001b[0;34m,\u001b[0m \u001b[0mverbose\u001b[0m\u001b[0;34m,\u001b[0m \u001b[0;34m'predict_proba'\u001b[0m\u001b[0;34m,\u001b[0m \u001b[0mtask_type\u001b[0m\u001b[0;34m)\u001b[0m\u001b[0;34m\u001b[0m\u001b[0;34m\u001b[0m\u001b[0m\n\u001b[0m\u001b[1;32m   5223\u001b[0m \u001b[0;34m\u001b[0m\u001b[0m\n\u001b[1;32m   5224\u001b[0m \u001b[0;34m\u001b[0m\u001b[0m\n",
            "\u001b[0;32m/usr/local/lib/python3.7/dist-packages/catboost/core.py\u001b[0m in \u001b[0;36m_predict\u001b[0;34m(self, data, prediction_type, ntree_start, ntree_end, thread_count, verbose, parent_method_name, task_type)\u001b[0m\n\u001b[1;32m   2542\u001b[0m         \u001b[0mself\u001b[0m\u001b[0;34m.\u001b[0m\u001b[0m_validate_prediction_type\u001b[0m\u001b[0;34m(\u001b[0m\u001b[0mprediction_type\u001b[0m\u001b[0;34m)\u001b[0m\u001b[0;34m\u001b[0m\u001b[0;34m\u001b[0m\u001b[0m\n\u001b[1;32m   2543\u001b[0m \u001b[0;34m\u001b[0m\u001b[0m\n\u001b[0;32m-> 2544\u001b[0;31m         \u001b[0mpredictions\u001b[0m \u001b[0;34m=\u001b[0m \u001b[0mself\u001b[0m\u001b[0;34m.\u001b[0m\u001b[0m_base_predict\u001b[0m\u001b[0;34m(\u001b[0m\u001b[0mdata\u001b[0m\u001b[0;34m,\u001b[0m \u001b[0mprediction_type\u001b[0m\u001b[0;34m,\u001b[0m \u001b[0mntree_start\u001b[0m\u001b[0;34m,\u001b[0m \u001b[0mntree_end\u001b[0m\u001b[0;34m,\u001b[0m \u001b[0mthread_count\u001b[0m\u001b[0;34m,\u001b[0m \u001b[0mverbose\u001b[0m\u001b[0;34m,\u001b[0m \u001b[0mtask_type\u001b[0m\u001b[0;34m)\u001b[0m\u001b[0;34m\u001b[0m\u001b[0;34m\u001b[0m\u001b[0m\n\u001b[0m\u001b[1;32m   2545\u001b[0m         \u001b[0;32mreturn\u001b[0m \u001b[0mpredictions\u001b[0m\u001b[0;34m[\u001b[0m\u001b[0;36m0\u001b[0m\u001b[0;34m]\u001b[0m \u001b[0;32mif\u001b[0m \u001b[0mdata_is_single_object\u001b[0m \u001b[0;32melse\u001b[0m \u001b[0mpredictions\u001b[0m\u001b[0;34m\u001b[0m\u001b[0;34m\u001b[0m\u001b[0m\n\u001b[1;32m   2546\u001b[0m \u001b[0;34m\u001b[0m\u001b[0m\n",
            "\u001b[0;32m/usr/local/lib/python3.7/dist-packages/catboost/core.py\u001b[0m in \u001b[0;36m_base_predict\u001b[0;34m(self, pool, prediction_type, ntree_start, ntree_end, thread_count, verbose, task_type)\u001b[0m\n\u001b[1;32m   1809\u001b[0m \u001b[0;34m\u001b[0m\u001b[0m\n\u001b[1;32m   1810\u001b[0m     \u001b[0;32mdef\u001b[0m \u001b[0m_base_predict\u001b[0m\u001b[0;34m(\u001b[0m\u001b[0mself\u001b[0m\u001b[0;34m,\u001b[0m \u001b[0mpool\u001b[0m\u001b[0;34m,\u001b[0m \u001b[0mprediction_type\u001b[0m\u001b[0;34m,\u001b[0m \u001b[0mntree_start\u001b[0m\u001b[0;34m,\u001b[0m \u001b[0mntree_end\u001b[0m\u001b[0;34m,\u001b[0m \u001b[0mthread_count\u001b[0m\u001b[0;34m,\u001b[0m \u001b[0mverbose\u001b[0m\u001b[0;34m,\u001b[0m \u001b[0mtask_type\u001b[0m\u001b[0;34m)\u001b[0m\u001b[0;34m:\u001b[0m\u001b[0;34m\u001b[0m\u001b[0;34m\u001b[0m\u001b[0m\n\u001b[0;32m-> 1811\u001b[0;31m         \u001b[0;32mreturn\u001b[0m \u001b[0mself\u001b[0m\u001b[0;34m.\u001b[0m\u001b[0m_object\u001b[0m\u001b[0;34m.\u001b[0m\u001b[0m_base_predict\u001b[0m\u001b[0;34m(\u001b[0m\u001b[0mpool\u001b[0m\u001b[0;34m,\u001b[0m \u001b[0mprediction_type\u001b[0m\u001b[0;34m,\u001b[0m \u001b[0mntree_start\u001b[0m\u001b[0;34m,\u001b[0m \u001b[0mntree_end\u001b[0m\u001b[0;34m,\u001b[0m \u001b[0mthread_count\u001b[0m\u001b[0;34m,\u001b[0m \u001b[0mverbose\u001b[0m\u001b[0;34m,\u001b[0m \u001b[0mtask_type\u001b[0m\u001b[0;34m)\u001b[0m\u001b[0;34m\u001b[0m\u001b[0;34m\u001b[0m\u001b[0m\n\u001b[0m\u001b[1;32m   1812\u001b[0m \u001b[0;34m\u001b[0m\u001b[0m\n\u001b[1;32m   1813\u001b[0m     \u001b[0;32mdef\u001b[0m \u001b[0m_base_virtual_ensembles_predict\u001b[0m\u001b[0;34m(\u001b[0m\u001b[0mself\u001b[0m\u001b[0;34m,\u001b[0m \u001b[0mpool\u001b[0m\u001b[0;34m,\u001b[0m \u001b[0mprediction_type\u001b[0m\u001b[0;34m,\u001b[0m \u001b[0mntree_end\u001b[0m\u001b[0;34m,\u001b[0m \u001b[0mvirtual_ensembles_count\u001b[0m\u001b[0;34m,\u001b[0m \u001b[0mthread_count\u001b[0m\u001b[0;34m,\u001b[0m \u001b[0mverbose\u001b[0m\u001b[0;34m)\u001b[0m\u001b[0;34m:\u001b[0m\u001b[0;34m\u001b[0m\u001b[0;34m\u001b[0m\u001b[0m\n",
            "\u001b[0;32m_catboost.pyx\u001b[0m in \u001b[0;36m_catboost._CatBoost._base_predict\u001b[0;34m()\u001b[0m\n",
            "\u001b[0;32m_catboost.pyx\u001b[0m in \u001b[0;36m_catboost._CatBoost._base_predict\u001b[0;34m()\u001b[0m\n",
            "\u001b[0;31mCatBoostError\u001b[0m: catboost/libs/data/model_dataset_compatibility.cpp:72: Feature Churn is present in model but not in pool."
          ]
        }
      ],
      "source": [
        "X_test = pd.read_csv('./test.csv')\n",
        "submission = pd.read_csv('./submission.csv')\n",
        "X_test.replace(' ', 1, inplace=True)\n",
        "X_test.TotalSpent = X_test.TotalSpent.astype(float)\n",
        "submission['Churn'] = best_model.predict_proba(X_test)[:, 1]\n",
        "# best_model.predict_proba(X_test) / best_model.predict(X_test)\n",
        "submission.to_csv('./my_submission.csv', index=False)"
      ]
    },
    {
      "cell_type": "markdown",
      "source": [
        "\n",
        "Виталий Бауэр 0.85223"
      ],
      "metadata": {
        "id": "_xY0Q81K7Thg"
      }
    },
    {
      "cell_type": "markdown",
      "metadata": {
        "id": "mkxjbGkVEEZc"
      },
      "source": [
        "# Kaggle (5 баллов)\n",
        "\n",
        "Как выставить баллы:\n",
        "\n",
        "1) 1 >= roc auc > 0.84 это 5 баллов\n",
        "\n",
        "2) 0.84 >= roc auc > 0.7 это 3 балла\n",
        "\n",
        "3) 0.7 >= roc auc > 0.6 это 1 балл\n",
        "\n",
        "4) 0.6 >= roc auc это 0 баллов\n",
        "\n",
        "\n",
        "Для выполнения задания необходимо выполнить следующие шаги.\n",
        "* Зарегистрироваться на платформе [kaggle.com](kaggle.com). Процесс выставления оценок будет проходить при подведении итогового рейтинга. Пожалуйста, укажите во вкладке Team -> Team name свои имя и фамилию в формате Имя_Фамилия (важно, чтобы имя и фамилия совпадали с данными на Stepik).\n",
        "* Обучить модель, получить файл с ответами в формате .csv и сдать его в конкурс. Пробуйте и экспериментируйте. Обратите внимание, что вы можете выполнять до 20 попыток сдачи на kaggle в день.\n",
        "* После окончания соревнования отправить в итоговый ноутбук с решением на степик.\n",
        "* После дедлайна проверьте посылки других участников по критериям. Для этого надо зайти на степик, скачать их ноутбук и проверить скор в соревновании."
      ]
    }
  ],
  "metadata": {
    "colab": {
      "provenance": []
    },
    "kernelspec": {
      "display_name": "Python 3",
      "language": "python",
      "name": "python3"
    },
    "language_info": {
      "codemirror_mode": {
        "name": "ipython",
        "version": 3
      },
      "file_extension": ".py",
      "mimetype": "text/x-python",
      "name": "python",
      "nbconvert_exporter": "python",
      "pygments_lexer": "ipython3",
      "version": "3.7.4"
    }
  },
  "nbformat": 4,
  "nbformat_minor": 0
}